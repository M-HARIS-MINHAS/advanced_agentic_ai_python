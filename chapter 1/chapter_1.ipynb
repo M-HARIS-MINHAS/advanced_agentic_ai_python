{
  "nbformat": 4,
  "nbformat_minor": 0,
  "metadata": {
    "colab": {
      "provenance": []
    },
    "kernelspec": {
      "name": "python3",
      "display_name": "Python 3"
    },
    "language_info": {
      "name": "python"
    }
  },
  "cells": [
    {
      "cell_type": "markdown",
      "source": [
        "**Modules**"
      ],
      "metadata": {
        "id": "Rzpqbg_tU5p6"
      }
    },
    {
      "cell_type": "code",
      "execution_count": null,
      "metadata": {
        "id": "aiuG7_J90UEf",
        "colab": {
          "base_uri": "https://localhost:8080/"
        },
        "outputId": "cc167ff7-53f0-4446-8c6f-300a94153f7d"
      },
      "outputs": [
        {
          "output_type": "stream",
          "name": "stdout",
          "text": [
            "Collecting pyjokes\n",
            "  Downloading pyjokes-0.8.3-py3-none-any.whl.metadata (3.4 kB)\n",
            "Downloading pyjokes-0.8.3-py3-none-any.whl (47 kB)\n",
            "\u001b[?25l   \u001b[90m━━━━━━━━━━━━━━━━━━━━━━━━━━━━━━━━━━━━━━━━\u001b[0m \u001b[32m0.0/47.6 kB\u001b[0m \u001b[31m?\u001b[0m eta \u001b[36m-:--:--\u001b[0m\r\u001b[2K   \u001b[90m━━━━━━━━━━━━━━━━━━━━━━━━━━━━━━━━━━━━━━━━\u001b[0m \u001b[32m47.6/47.6 kB\u001b[0m \u001b[31m1.6 MB/s\u001b[0m eta \u001b[36m0:00:00\u001b[0m\n",
            "\u001b[?25hInstalling collected packages: pyjokes\n",
            "Successfully installed pyjokes-0.8.3\n"
          ]
        }
      ],
      "source": [
        "pip install pyjokes"
      ]
    },
    {
      "cell_type": "code",
      "source": [
        "import pyjokes"
      ],
      "metadata": {
        "id": "JX1pVQ9oUR3I"
      },
      "execution_count": null,
      "outputs": []
    },
    {
      "cell_type": "code",
      "source": [
        "print(\"printing jokes...\")\n",
        "joke=pyjokes.get_joke()\n",
        "print(joke)\n"
      ],
      "metadata": {
        "colab": {
          "base_uri": "https://localhost:8080/"
        },
        "id": "lV0KbRJVUlUw",
        "outputId": "acb849fb-eeb4-49e9-9445-9bd7c53fefb7"
      },
      "execution_count": null,
      "outputs": [
        {
          "output_type": "stream",
          "name": "stdout",
          "text": [
            "printing jokes...\n",
            "Bug? That's not a bug, that's a feature.\n"
          ]
        }
      ]
    },
    {
      "cell_type": "markdown",
      "source": [
        "Built in Module Examples"
      ],
      "metadata": {
        "id": "dfm-cWMobdWm"
      }
    },
    {
      "cell_type": "code",
      "source": [
        "import math"
      ],
      "metadata": {
        "id": "bOnsPPpCbj7F"
      },
      "execution_count": null,
      "outputs": []
    },
    {
      "cell_type": "code",
      "source": [
        "print(math.sqrt(25))"
      ],
      "metadata": {
        "colab": {
          "base_uri": "https://localhost:8080/"
        },
        "id": "76stDKP_booW",
        "outputId": "0c3b9d1d-923d-487e-8dad-29ac8be2f68c"
      },
      "execution_count": null,
      "outputs": [
        {
          "output_type": "stream",
          "name": "stdout",
          "text": [
            "5.0\n"
          ]
        }
      ]
    },
    {
      "cell_type": "code",
      "source": [
        "import random"
      ],
      "metadata": {
        "id": "z_HH6liAb5Yo"
      },
      "execution_count": null,
      "outputs": []
    },
    {
      "cell_type": "code",
      "source": [
        " print(random.random()) #  Generates a random float between 0 and 1"
      ],
      "metadata": {
        "colab": {
          "base_uri": "https://localhost:8080/"
        },
        "id": "SzLfSqsvb-IA",
        "outputId": "d67ab5a7-45b1-430c-b731-a1f44d95462a"
      },
      "execution_count": null,
      "outputs": [
        {
          "output_type": "stream",
          "name": "stdout",
          "text": [
            "0.07398875617234091\n"
          ]
        }
      ]
    },
    {
      "cell_type": "markdown",
      "source": [
        "External Module Examples"
      ],
      "metadata": {
        "id": "lQUTrzXEdZo7"
      }
    },
    {
      "cell_type": "code",
      "source": [
        "pip install pd"
      ],
      "metadata": {
        "colab": {
          "base_uri": "https://localhost:8080/"
        },
        "id": "JzQYY4rhdfIQ",
        "outputId": "94028dca-0d35-4593-95e3-3de8497612a0"
      },
      "execution_count": null,
      "outputs": [
        {
          "output_type": "stream",
          "name": "stdout",
          "text": [
            "Collecting pd\n",
            "  Downloading pd-0.0.4-py3-none-any.whl.metadata (5.2 kB)\n",
            "Downloading pd-0.0.4-py3-none-any.whl (6.5 kB)\n",
            "Installing collected packages: pd\n",
            "Successfully installed pd-0.0.4\n"
          ]
        }
      ]
    },
    {
      "cell_type": "code",
      "source": [
        "# # prompt: what is pd package do in python.explain pd\n",
        "\n",
        "# What does pandas do?\n",
        "# The pandas package is all about working with data. It's used for things like:\n",
        "\n",
        "# Organizing Data: pandas provides data structures called DataFrames and Series that allow you to store and organize data in tabular format (think of rows and columns like in an Excel spreadsheet).\n",
        "# Cleaning and Preparing Data: It has tools to handle missing data, clean up messy data, and get it ready for analysis.\n",
        "# Analyzing Data: pandas gives you powerful functions for doing calculations, filtering data, grouping data, and drawing insights from your data.\n",
        "# Manipulating Data: You can easily add, remove, and modify columns and rows of your data.\n",
        "# Working with Different Data Sources: pandas can read and write data from and to various formats like CSV files, Excel files, databases, and more.\n",
        "# In short, pandas is your go-to library in Python for data science and analysis. It gives you the tools to handle and understand your data effectively.\n"
      ],
      "metadata": {
        "id": "LO-dyzf_dkY_"
      },
      "execution_count": null,
      "outputs": []
    },
    {
      "cell_type": "markdown",
      "source": [
        "# New Section"
      ],
      "metadata": {
        "id": "Gx2x4Fyn_Vgb"
      }
    },
    {
      "cell_type": "code",
      "source": [
        "import pandas as pd\n",
        "\n",
        "details = {\"Name\":[\"Haris\",\"usman\",\"anas\"], \"Age\":[17,13,19]}\n",
        "df = pd.DataFrame(details)\n",
        "print(df)"
      ],
      "metadata": {
        "colab": {
          "base_uri": "https://localhost:8080/"
        },
        "id": "wBK6PtjveR19",
        "outputId": "b9b146b6-c5c2-48dc-b7c7-897bf5059e50"
      },
      "execution_count": null,
      "outputs": [
        {
          "output_type": "stream",
          "name": "stdout",
          "text": [
            "    Name  Age\n",
            "0  Haris   17\n",
            "1  usman   13\n",
            "2   anas   19\n"
          ]
        }
      ]
    },
    {
      "cell_type": "markdown",
      "source": [
        "**Comments**"
      ],
      "metadata": {
        "id": "jXYQN05CWQuU"
      }
    },
    {
      "cell_type": "markdown",
      "source": [
        "Single line comment"
      ],
      "metadata": {
        "id": "Ij1i7z6yXLBv"
      }
    },
    {
      "cell_type": "code",
      "source": [
        " print(\"Hello world\") # this line help  to print the  hello world on the screen.this is builtin function"
      ],
      "metadata": {
        "colab": {
          "base_uri": "https://localhost:8080/"
        },
        "id": "t2zY2jVRWUYP",
        "outputId": "d9fff0b7-e716-40fc-b60b-d19695e14783"
      },
      "execution_count": null,
      "outputs": [
        {
          "output_type": "stream",
          "name": "stdout",
          "text": [
            "Hello world\n"
          ]
        }
      ]
    }
  ]
}